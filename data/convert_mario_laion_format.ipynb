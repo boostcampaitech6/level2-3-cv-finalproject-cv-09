{
 "cells": [
  {
   "cell_type": "code",
   "execution_count": 1,
   "metadata": {},
   "outputs": [],
   "source": [
    "import os\n",
    "import json\n",
    "from tqdm import tqdm"
   ]
  },
  {
   "cell_type": "code",
   "execution_count": 2,
   "metadata": {},
   "outputs": [],
   "source": [
    "def convert_coordinates(data):\n",
    "    x,y,w,h = data\n",
    "    return \",\".join(map(str,[x, y, x+w, y, x+w, y+h, x, y+h]))"
   ]
  },
  {
   "cell_type": "code",
   "execution_count": 3,
   "metadata": {},
   "outputs": [],
   "source": [
    "def make_ocr_and_caption_txt(json_file_path, output_sub_folder_path):\n",
    "    with open(json_file_path) as f:\n",
    "        datas = json.load(f)\n",
    "        caption = []\n",
    "        ocr = []\n",
    "        for data in datas['annotations']:        \n",
    "            word = data['text']\n",
    "            caption.append(word)\n",
    "            coordinate = convert_coordinates(data['bbox'])\n",
    "            ocr.append(f'{word} {coordinate} 0.99\\n')\n",
    "            # ocr.txt 파일 생성\n",
    "        with open(os.path.join(output_sub_folder_path, 'ocr.txt'), 'w') as f:\n",
    "            f.write(\"\".join(ocr))\n",
    "        \n",
    "        # caption.txt 파일 생성\n",
    "        with open(os.path.join(output_sub_folder_path, 'caption.txt'), 'w') as f:\n",
    "            f.write(' '.join(caption))"
   ]
  },
  {
   "cell_type": "code",
   "execution_count": 4,
   "metadata": {},
   "outputs": [],
   "source": [
    "def make_info_json(file_name, json_file_path, output_sub_folder_path):\n",
    "    info = {\n",
    "            \"NSFW\": \"UNLIKELY\", \"similarity\": 0.99, \"LICENSE\": \"scv\", \n",
    "            \"caption\": \"Day Drunk for America\", \n",
    "            \"url\": \"\", \"key\": file_name, \"status\": \"success\", \"error_message\": \"error\", \n",
    "            \"width\": 1600, \"height\": 1200, \"original_width\": 1600, \"original_height\": 1200, \n",
    "            \"exif\": \"{}\", \"sha256\": \"\"\n",
    "            }\n",
    "    with open(os.path.join(output_sub_folder_path, 'info.json'), 'w') as f:\n",
    "        f.write(str(info).replace(\"\\'\",\"\\\"\"))"
   ]
  },
  {
   "cell_type": "code",
   "execution_count": 5,
   "metadata": {},
   "outputs": [],
   "source": [
    "def main(json_folder_path, img_folder_path, output_folder_path):\n",
    "    folder_num = 41408\n",
    "    img_files_list = os.listdir(img_folder_path)\n",
    "    for i, img_file in tqdm(enumerate(img_files_list)):\n",
    "        file_name = img_file.split('.')[0]\n",
    "        json_file = file_name+'.json'\n",
    "        json_file_path = os.path.join(json_folder_path, json_file)\n",
    "        output_sub_folder_path = os.path.join(output_folder_path, str(folder_num + (i//300)), file_name)\n",
    "        # 300개씩 폴더를 나누어 준다.\n",
    "        if not os.path.exists(output_sub_folder_path):\n",
    "            os.makedirs(output_sub_folder_path)\n",
    "        else:\n",
    "            continue\n",
    "        \n",
    "        # info.json 파일 생성\n",
    "        make_info_json(file_name, json_file_path, output_sub_folder_path)\n",
    "\n",
    "        # ocr.txt와 caption.txt 파일 생성\n",
    "        make_ocr_and_caption_txt(json_file_path, output_sub_folder_path)"
   ]
  },
  {
   "cell_type": "code",
   "execution_count": null,
   "metadata": {},
   "outputs": [],
   "source": [
    "if __name__ == \"__main__\":\n",
    "    # 기존 json 폴더 위치\n",
    "    json_folder_path = '/workspace/logo_gen_project/selected_data/원본_json'\n",
    "\n",
    "    # 기존 image 폴더 위치\n",
    "    img_folder_path = '/workspace/logo_gen_project/selected_data/selected_images'\n",
    "\n",
    "    # output 폴더 위치\n",
    "    output_folder_path = '/workspace/logo_gen_project/laion_format'\n",
    "    main(json_folder_path, img_folder_path, output_folder_path)"
   ]
  }
 ],
 "metadata": {
  "kernelspec": {
   "display_name": "base",
   "language": "python",
   "name": "python3"
  },
  "language_info": {
   "codemirror_mode": {
    "name": "ipython",
    "version": 3
   },
   "file_extension": ".py",
   "mimetype": "text/x-python",
   "name": "python",
   "nbconvert_exporter": "python",
   "pygments_lexer": "ipython3",
   "version": "3.10.13"
  }
 },
 "nbformat": 4,
 "nbformat_minor": 2
}
