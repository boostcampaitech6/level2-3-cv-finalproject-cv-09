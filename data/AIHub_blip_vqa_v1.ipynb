{
 "cells": [
  {
   "cell_type": "markdown",
   "metadata": {},
   "source": [
    "# BLIP 모델을 이용한 이미지의 색상 정보 추출.\n",
    "\n",
    "### 문제 배경\n",
    "한글 상표 생성 데이터셋은 이미지와 이미지에 대한 한글 설명이 담긴 txt 파일로 이루어져 있다. txt파일에는 해당 상표 이미지의 배경색상과 글자색에 대한 정보를 입력해줘야 했다. 그래서 AIHub의 '야외 실제 촬영 한글 이미지' 데이터셋에서 받은 '책 표지'데이터를 상표 생성 데이터셋에 맞게 수정하여 활용하고자 했다. 그런데 AIHub 데이터셋의 어노테이션에는 이미지의 배경색상과 글자색에 대한 정보가 없었고, 이를 해결하고자 BLIP 모델을 이용하여 image captioning 작업을 수행하여 해결하고자 했다.\n",
    "\n",
    "#### 문제1 : image Captioning은 색상에 대한 정보를 뽑아 주지 않았다.\n",
    "BLIP 모델을 사용하여 image captioning을 진행해 본 결과, 이미지 내의 사물의 유무에 대한 설명만 있을 뿐, 색상에 대해서는 정보를 제공해주지 않았다.\n",
    "이를 해결하고자, Visual question answering (VQA) task로 문제를 재정의하여 색상에 대한 질문을 주면 답을 얻는 방식으로 문제를 해결했다.\n",
    "\n",
    "#### 문제2 : VQA모델을 통해 얻은 색상에 대한 정보는 영어이다.\n",
    "VQA model로 얻은 색상 정보는 영어로 작성되어 있다. 이를 해결하기 위해 두 가지 방법을 사용했다.\n",
    "- 첫 번째 방법은 구글 번역기 API를 활용하는 것이다. 구글 번역기 api를 이용해서 한글로 번역하고 txt 파일을 작성했었는데, api 요청시 중간중간 오류가 발생해서, 오류를 수정하기 번거러웠다. 구글 번역기 api : https://py-googletrans.readthedocs.io/en/latest/\n",
    "- 두 번째 방법은, VQA에 모든 데이터셋을 통과시켜서 색상 카테고리 리스트를 만들고, {영어:한글}을 직접 번역하여 매칭시킨 dict를 이용해서 한글로 번역하고 txt 파일로 저장했다. VQA 모델 깃허브 : https://github.com/salesforce/LAVIS\n",
    "\n",
    "#### 코드 설명\n",
    "AIHub 데이터셋에서 필요한 정보만 빼서 미리 만들어 놓은 기존 txt파일에 색상 정보를 추가한 새로운 txt 파일을 만드는 코드를 작성했다."
   ]
  },
  {
   "cell_type": "code",
   "execution_count": 1,
   "metadata": {},
   "outputs": [],
   "source": [
    "# !pip install salesforce-lavis\n",
    "# !pip install googletrans==4.0.0rc1"
   ]
  },
  {
   "cell_type": "code",
   "execution_count": 2,
   "metadata": {},
   "outputs": [
    {
     "name": "stderr",
     "output_type": "stream",
     "text": [
      "/opt/conda/lib/python3.10/site-packages/tqdm/auto.py:21: TqdmWarning: IProgress not found. Please update jupyter and ipywidgets. See https://ipywidgets.readthedocs.io/en/stable/user_install.html\n",
      "  from .autonotebook import tqdm as notebook_tqdm\n"
     ]
    }
   ],
   "source": [
    "import os\n",
    "import torch\n",
    "from tqdm import tqdm\n",
    "from PIL import Image\n",
    "# from googletrans import Translator\n",
    "from lavis.models import load_model_and_preprocess"
   ]
  },
  {
   "cell_type": "code",
   "execution_count": 3,
   "metadata": {},
   "outputs": [],
   "source": [
    "# setup device to use\n",
    "device = torch.device(\"cuda\" if torch.cuda.is_available() else \"cpu\")"
   ]
  },
  {
   "cell_type": "code",
   "execution_count": 4,
   "metadata": {},
   "outputs": [],
   "source": [
    "# Load BLIP VQA model finetuned on VQAv2\n",
    "model, vis_processors, txt_processors = load_model_and_preprocess(name=\"blip_vqa\", model_type=\"vqav2\", is_eval=True, device=device)"
   ]
  },
  {
   "cell_type": "code",
   "execution_count": 5,
   "metadata": {},
   "outputs": [],
   "source": [
    "batch_size = 2\n",
    "\n",
    "# 배치 단위의 질문을 만든다. 이미지 수와 질문 수를 일치 시켜야한다.\n",
    "question_1 = txt_processors[\"eval\"](\"what colors are the background of this picture?\")\n",
    "question_2 = txt_processors[\"eval\"](\"which colors is the letters of this photo?\")\n",
    "\n",
    "def color_extractor(image_path):\n",
    "    raw_image = Image.open(image_path).convert(\"RGB\")\n",
    "    image = vis_processors[\"eval\"](raw_image).unsqueeze(0).to(device)\n",
    "    \n",
    "    # 샘플을 배치 수 만큼 만든다. 다양한 이미지 혹은 같은 이미지로 구성할 수 있다.\n",
    "    image_batch = image.repeat(batch_size, 1, 1, 1)\n",
    "\n",
    "    question_batch = [question_1, question_2]\n",
    "    colors = model.predict_answers(samples={\"image\": image_batch, \"text_input\": question_batch}, inference_method=\"generate\")\n",
    "    colors = (colors[0].lower(), colors[1].lower())\n",
    "    return colors"
   ]
  },
  {
   "cell_type": "code",
   "execution_count": null,
   "metadata": {},
   "outputs": [],
   "source": [
    "\"\"\"\n",
    "이미지 데이터셋 내에 있는 색상 카테고리를 만드는 코드\n",
    "\"\"\"\n",
    "# AIHub 이미지 파일이 있는 폴더의 주소\n",
    "img_files_path = \"/workspace/logo_gen_project/selected_data/selected_images\"\n",
    "\n",
    "color_dict = []\n",
    "\n",
    "img_files_list = os.listdir(img_files_path)\n",
    "\n",
    "i = 0\n",
    "for img_file in tqdm(img_files_list):\n",
    "    # 짝수 번째의 이미지의 컬러 추출\n",
    "    if i%2 == 0:\n",
    "        i += 1\n",
    "        continue\n",
    "\n",
    "    img_path = os.path.join(img_files_path, img_file)\n",
    "    colors = color_extractor(img_path)\n",
    "    for color in colors[0].split()+colors[1].split():\n",
    "        if color not in color_list and color != \"and\":\n",
    "            color_list.append(color)\n",
    "    i += 1\n",
    "\n",
    "print(color_list)"
   ]
  },
  {
   "cell_type": "code",
   "execution_count": 11,
   "metadata": {},
   "outputs": [],
   "source": [
    "def color2str(mode, colors):\n",
    "    global check_list, exception_list, color_dict\n",
    "    cl = []\n",
    "    if mode == 'background':\n",
    "        annotation = 'bg: '\n",
    "        colors = colors[0].split()\n",
    "    elif mode == 'letter':\n",
    "        annotation = 'letter: '\n",
    "        colors = colors[1].split()\n",
    "\n",
    "    for color in colors:\n",
    "        if color in color_dict and color != \"and\":\n",
    "            cl.append(color_dict[color])\n",
    "            if color in ['multicolored', 'multi', 'colored']:\n",
    "                check_list.append(annotation+label)\n",
    "        elif color != \"and\":\n",
    "            exception_list.append(annotation+label)\n",
    "            # print(label)\n",
    "    color_str = ', '.join(cl)\n",
    "    return color_str"
   ]
  },
  {
   "cell_type": "code",
   "execution_count": 12,
   "metadata": {},
   "outputs": [
    {
     "name": "stderr",
     "output_type": "stream",
     "text": [
      "100%|██████████| 13/13 [00:02<00:00,  5.49it/s]\n"
     ]
    }
   ],
   "source": [
    "# AIHub 이미지 파일이 있는 폴더의 주소\n",
    "img_files_path = \"/workspace/logo_gen_project/selected_data/selected_images\"\n",
    "# 기존 txt 파일이 있는 폴더의 주소\n",
    "label_path = '/workspace/logo_gen_project/selected_data/txt'\n",
    "# 새롭게 생성한 txt 파일을 저장할 폴더의 주소\n",
    "output_label_path = '/workspace/logo_gen_project/selected_data/labels_v2'\n",
    "\n",
    "\n",
    "color_dict = {'white':'흰색', 'red':'빨간색', 'green':'초록색', 'black':'검정색', 'blue':'파란색', 'orange':'주황색', 'gold':'금색', 'gray':'회색', \n",
    "              'brown':'갈색', 'yellow':'노란색', 'purple':'보라색', 'multicolored':'다양한 색', 'pink':'분홍색', 'teal':'청록색', 'tan':'황토색', \n",
    "              'silver':'은색', 'multi':'다양한', 'colored':'색', 'rainbow':'무지개색', 'peach':'복숭아색', 'beige':'베이지색', 'grey':'회색'}\n",
    "\n",
    "# exception_list는 color_dict에 없는 색상일 경우 해당 이미지의 파일명을 저장\n",
    "exception_list = []\n",
    "# check_list는 'multicolored', 'multi', 'colored'로 분류되는 이미지 파일명을 저장\n",
    "check_list = []\n",
    "\n",
    "img_files_list = os.listdir(img_files_path)\n",
    "\n",
    "for img_file in tqdm(img_files_list):\n",
    "    label = img_file.split('.')[0]+'.txt'\n",
    "    if os.path.exists(os.path.join(output_label_path, label)):\n",
    "        continue\n",
    "    \n",
    "    img_path = os.path.join(img_files_path, img_file)\n",
    "    colors = color_extractor(img_path)\n",
    "\n",
    "    bg_color_str = color2str('background', colors)\n",
    "    letter_color_str = color2str('letter', colors)\n",
    "    \n",
    "    res = f' 로고에서 배경색은 {bg_color_str}이며 글자의 색상은 {letter_color_str}입니다. '\n",
    "    # 기존의 txt 파일의 내용을 불러온다.\n",
    "    with open(os.path.join(label_path, label), 'r') as f:\n",
    "        txt = f.read().strip()\n",
    "    \n",
    "    # 기존의 txt파일 내용에 맞춰 문장을 합치고, 새로운 txt파일을 생성한다.\n",
    "    with open(os.path.join(output_label_path, label), 'w') as f:\n",
    "        f.write(txt+res)"
   ]
  },
  {
   "cell_type": "code",
   "execution_count": 34,
   "metadata": {},
   "outputs": [
    {
     "data": {
      "text/plain": [
       "['bg: 책표지_사회과학_004270.txt',\n",
       " 'bg: 책표지_사회과학_004270.txt',\n",
       " 'bg: 책표지_사회과학_001846.txt',\n",
       " 'bg: 책표지_사회과학_002024.txt',\n",
       " 'bg: 책표지_예술_001534.txt',\n",
       " 'bg: 책표지_예술_001534.txt',\n",
       " 'bg: 책표지_예술_000336.txt',\n",
       " 'bg: 책표지_기타_002570.txt',\n",
       " 'bg: 책표지_기타_002570.txt',\n",
       " 'bg: 책표지_기술과학_002282.txt',\n",
       " 'bg: 책표지_사회과학_001498.txt',\n",
       " 'bg: 책표지_사회과학_001604.txt',\n",
       " 'bg: 책표지_자연과학_001856.txt',\n",
       " 'bg: 책표지_문학_004482.txt',\n",
       " 'bg: 책표지_문학_004482.txt',\n",
       " 'bg: 책표지_사회과학_004254.txt',\n",
       " 'bg: 책표지_사회과학_004254.txt',\n",
       " 'bg: 책표지_예술_000444.txt',\n",
       " 'bg: 책표지_예술_000444.txt',\n",
       " 'bg: 책표지_철학_000478.txt',\n",
       " 'bg: 책표지_문학_001601.txt',\n",
       " 'bg: 책표지_예술_001690.txt',\n",
       " 'bg: 책표지_기술과학_002982.txt',\n",
       " 'bg: 책표지_사회과학_005578.txt',\n",
       " 'bg: 책표지_총류_000118.txt',\n",
       " 'bg: 책표지_총류_000118.txt',\n",
       " 'bg: 책표지_총류_001770.txt',\n",
       " 'bg: 책표지_사회과학_004977.txt',\n",
       " 'bg: 책표지_자연과학_000431.txt',\n",
       " 'bg: 책표지_자연과학_000526.txt',\n",
       " 'bg: 책표지_문학_004673.txt',\n",
       " 'bg: 책표지_문학_002507.txt',\n",
       " 'bg: 책표지_사회과학_001917.txt',\n",
       " 'bg: 책표지_총류_001183.txt',\n",
       " 'bg: 책표지_총류_001183.txt',\n",
       " 'bg: 책표지_자연과학_000453.txt',\n",
       " 'bg: 책표지_총류_001129.txt',\n",
       " 'bg: 책표지_문학_005640.txt',\n",
       " 'bg: 책표지_문학_005640.txt',\n",
       " 'bg: 책표지_문학_006074.txt',\n",
       " 'bg: 책표지_종교_000488.txt',\n",
       " 'bg: 책표지_기타_001668.txt',\n",
       " 'bg: 책표지_역사_001637.txt',\n",
       " 'bg: 책표지_사회과학_003331.txt',\n",
       " 'bg: 책표지_사회과학_001497.txt',\n",
       " 'bg: 책표지_문학_004469.txt',\n",
       " 'bg: 책표지_사회과학_003120.txt',\n",
       " 'bg: 책표지_사회과학_003120.txt',\n",
       " 'bg: 책표지_기타_000055.txt',\n",
       " 'bg: 책표지_철학_001550.txt',\n",
       " 'bg: 책표지_철학_001550.txt',\n",
       " 'bg: 책표지_문학_003255.txt',\n",
       " 'bg: 책표지_문학_003255.txt',\n",
       " 'bg: 책표지_예술_001142.txt',\n",
       " 'bg: 책표지_예술_000175.txt',\n",
       " 'bg: 책표지_예술_000175.txt',\n",
       " 'bg: 책표지_기타_001751.txt',\n",
       " 'bg: 책표지_언어_000797.txt',\n",
       " 'bg: 책표지_언어_000797.txt',\n",
       " 'bg: 책표지_종교_001615.txt',\n",
       " 'bg: 책표지_종교_001615.txt',\n",
       " 'bg: 책표지_총류_000351.txt',\n",
       " 'bg: 책표지_철학_001056.txt',\n",
       " 'bg: 책표지_문학_006387.txt',\n",
       " 'bg: 책표지_문학_006387.txt',\n",
       " 'bg: 책표지_예술_002041.txt']"
      ]
     },
     "execution_count": 34,
     "metadata": {},
     "output_type": "execute_result"
    }
   ],
   "source": [
    "# 'multicolored', 'multi', 'colored' 라는 색상으로 추출된 txt 파일 리스트\n",
    "# bg는 background에서 해당 색상으로 추출됐다는 것을 의미. lc는 글자색.\n",
    "check_list"
   ]
  },
  {
   "cell_type": "code",
   "execution_count": 35,
   "metadata": {},
   "outputs": [
    {
     "data": {
      "text/plain": [
       "[]"
      ]
     },
     "execution_count": 35,
     "metadata": {},
     "output_type": "execute_result"
    }
   ],
   "source": [
    "# 색상 카테고리 외의 색깔이 나온 예외 파일 리스트\n",
    "exception_list"
   ]
  },
  {
   "cell_type": "code",
   "execution_count": 43,
   "metadata": {},
   "outputs": [],
   "source": [
    "# check_list를 txt파일로 만듦.\n",
    "with open(os.path.join('/workspace/logo_gen_project/check_list.txt'), 'w') as f:\n",
    "    for s in check_list:\n",
    "        f.write(s+'\\n')"
   ]
  }
 ],
 "metadata": {
  "kernelspec": {
   "display_name": "Python 3.8.10 ('base')",
   "language": "python",
   "name": "python3"
  },
  "language_info": {
   "codemirror_mode": {
    "name": "ipython",
    "version": 3
   },
   "file_extension": ".py",
   "mimetype": "text/x-python",
   "name": "python",
   "nbconvert_exporter": "python",
   "pygments_lexer": "ipython3",
   "version": "3.10.13"
  },
  "orig_nbformat": 4,
  "vscode": {
   "interpreter": {
    "hash": "d4d1e4263499bec80672ea0156c357c1ee493ec2b1c70f0acce89fc37c4a6abe"
   }
  }
 },
 "nbformat": 4,
 "nbformat_minor": 2
}
