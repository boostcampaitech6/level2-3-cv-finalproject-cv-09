{
 "cells": [
  {
   "cell_type": "code",
   "execution_count": 99,
   "metadata": {},
   "outputs": [],
   "source": [
    "import os\n",
    "import shutil\n",
    "import json\n",
    "\n",
    "import pandas as pd\n",
    "from tqdm import tqdm"
   ]
  },
  {
   "cell_type": "code",
   "execution_count": 159,
   "metadata": {},
   "outputs": [],
   "source": [
    "# 선별한 json 파일 저장할 폴더 위치 destination\n",
    "json_dst = '../selected_data/selected_labels'\n",
    "# json파일 폴더 위치\n",
    "labels_folder_path = '../labels/bookcover'"
   ]
  },
  {
   "cell_type": "code",
   "execution_count": null,
   "metadata": {},
   "outputs": [],
   "source": [
    "df = pd.DataFrame({\n",
    "        'class' : [],\n",
    "        'img_name' :[],\n",
    "        'title' : []\n",
    "    })\n",
    "cnt = 0\n",
    "for folder in tqdm(os.listdir(labels_folder_path)):\n",
    "    folder_dir = f'../labels/bookcover/{folder}'\n",
    "    files_list = os.listdir(folder_dir)\n",
    "\n",
    "    for filename in files_list:\n",
    "        if '.json' not in filename:\n",
    "            continue\n",
    "        file_path = os.path.join(folder_dir, filename)\n",
    "        \n",
    "        with open(file_path) as f:\n",
    "            datas = json.load(f)\n",
    "            words = []\n",
    "            for data in datas['annotations']:        \n",
    "                words.append(data['text'])\n",
    "            title = ' '.join(words)\n",
    "\n",
    "        if 'xxx' in words:\n",
    "            continue\n",
    "\n",
    "        df.loc[cnt] = [\n",
    "            filename.split('.')[0].split('_')[1],\n",
    "            datas['images'][0]['file_name'],\n",
    "            title\n",
    "        ]\n",
    "        cnt +=1\n",
    "        # 선별된 json 파일을 따로 '선별'폴더에 복사한다.\n",
    "        shutil.copy(file_path, json_dst)"
   ]
  },
  {
   "cell_type": "code",
   "execution_count": null,
   "metadata": {},
   "outputs": [],
   "source": [
    "print('선별된 이미지의 총 개수: ', len(df))"
   ]
  },
  {
   "cell_type": "code",
   "execution_count": null,
   "metadata": {},
   "outputs": [],
   "source": [
    "df = df.sort_values(by = 'img_name')\n",
    "df.head(10)"
   ]
  },
  {
   "cell_type": "markdown",
   "metadata": {},
   "source": [
    "# 선별한 image 파일 복사하기"
   ]
  },
  {
   "cell_type": "code",
   "execution_count": 164,
   "metadata": {},
   "outputs": [],
   "source": [
    "imgs_dst = '../selected_data/selected_images'\n",
    "imgs_folder_path = '../images/bookcover'"
   ]
  },
  {
   "cell_type": "code",
   "execution_count": null,
   "metadata": {},
   "outputs": [],
   "source": [
    "df['class'].unique()"
   ]
  },
  {
   "cell_type": "code",
   "execution_count": null,
   "metadata": {},
   "outputs": [],
   "source": [
    "counter = 0\n",
    "for folder in tqdm(os.listdir(imgs_folder_path)):\n",
    "    cls = folder.split('.')[1]\n",
    "    df_cls = df[df['class'] == cls]\n",
    "    imgs_dir = f'../images/bookcover/{folder}'\n",
    "    \n",
    "    for name in df_cls['img_name'].tolist():\n",
    "        img_path = os.path.join(imgs_dir, name)\n",
    "        counter += 1\n",
    "        shutil.copy(img_path, imgs_dst)\n",
    "counter"
   ]
  },
  {
   "cell_type": "markdown",
   "metadata": {},
   "source": [
    "# txt 파일 생성하기"
   ]
  },
  {
   "cell_type": "code",
   "execution_count": 167,
   "metadata": {},
   "outputs": [],
   "source": [
    "output_path = '/workspace/logo_gen_project/selected_data/txt'"
   ]
  },
  {
   "cell_type": "code",
   "execution_count": null,
   "metadata": {},
   "outputs": [],
   "source": [
    "df.iloc[0]"
   ]
  },
  {
   "cell_type": "code",
   "execution_count": null,
   "metadata": {},
   "outputs": [],
   "source": [
    "for i in tqdm(range(len(df))):\n",
    "    filename = df.iloc[i]['img_name'].split('.')[0]\n",
    "    title = df.iloc[i]['title']\n",
    "    text = f\"\\\"{title}\\\"라는 글자가 적힌 로고.\"\n",
    "\n",
    "    with open(os.path.join(output_path, filename+'.txt'), \"w\") as f:\n",
    "        f.write(text)"
   ]
  }
 ],
 "metadata": {
  "kernelspec": {
   "display_name": "base",
   "language": "python",
   "name": "python3"
  },
  "language_info": {
   "codemirror_mode": {
    "name": "ipython",
    "version": 3
   },
   "file_extension": ".py",
   "mimetype": "text/x-python",
   "name": "python",
   "nbconvert_exporter": "python",
   "pygments_lexer": "ipython3",
   "version": "3.10.13"
  }
 },
 "nbformat": 4,
 "nbformat_minor": 2
}
