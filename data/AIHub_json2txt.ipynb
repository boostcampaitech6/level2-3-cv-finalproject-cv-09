{
 "cells": [
  {
   "cell_type": "code",
   "execution_count": 99,
   "metadata": {},
   "outputs": [],
   "source": [
    "import os\n",
    "import shutil\n",
    "import json\n",
    "import pandas as pd\n",
    "\n",
    "from tqdm import tqdm"
   ]
  },
  {
   "cell_type": "code",
   "execution_count": 159,
   "metadata": {},
   "outputs": [],
   "source": [
    "# 선별한 json 파일 저장할 폴더 위치 destination\n",
    "json_dst = '/workspace/logo_gen_project/selected_data/selected_labels'\n",
    "\n",
    "# json파일 폴더 위치\n",
    "labels_folder_path = '/workspace/logo_gen_project/labels/bookcover'"
   ]
  },
  {
   "cell_type": "code",
   "execution_count": 160,
   "metadata": {},
   "outputs": [
    {
     "name": "stderr",
     "output_type": "stream",
     "text": [
      "100%|██████████| 11/11 [00:17<00:00,  1.58s/it]"
     ]
    },
    {
     "name": "stdout",
     "output_type": "stream",
     "text": [
      "19511\n"
     ]
    },
    {
     "name": "stderr",
     "output_type": "stream",
     "text": [
      "\n"
     ]
    },
    {
     "data": {
      "text/html": [
       "<div>\n",
       "<style scoped>\n",
       "    .dataframe tbody tr th:only-of-type {\n",
       "        vertical-align: middle;\n",
       "    }\n",
       "\n",
       "    .dataframe tbody tr th {\n",
       "        vertical-align: top;\n",
       "    }\n",
       "\n",
       "    .dataframe thead th {\n",
       "        text-align: right;\n",
       "    }\n",
       "</style>\n",
       "<table border=\"1\" class=\"dataframe\">\n",
       "  <thead>\n",
       "    <tr style=\"text-align: right;\">\n",
       "      <th></th>\n",
       "      <th>class</th>\n",
       "      <th>img_name</th>\n",
       "      <th>title</th>\n",
       "    </tr>\n",
       "  </thead>\n",
       "  <tbody>\n",
       "    <tr>\n",
       "      <th>0</th>\n",
       "      <td>역사</td>\n",
       "      <td>책표지_역사_001301.JPG</td>\n",
       "      <td>이 땅에 문화를 일군 사람들</td>\n",
       "    </tr>\n",
       "    <tr>\n",
       "      <th>1</th>\n",
       "      <td>역사</td>\n",
       "      <td>책표지_역사_001130.jpg</td>\n",
       "      <td>청소년을 위한 서양철학사 서용순 지음</td>\n",
       "    </tr>\n",
       "    <tr>\n",
       "      <th>2</th>\n",
       "      <td>역사</td>\n",
       "      <td>책표지_역사_001997.JPG</td>\n",
       "      <td>중세</td>\n",
       "    </tr>\n",
       "    <tr>\n",
       "      <th>3</th>\n",
       "      <td>역사</td>\n",
       "      <td>책표지_역사_000673.JPG</td>\n",
       "      <td>서툰 여행 그때는 누구나</td>\n",
       "    </tr>\n",
       "    <tr>\n",
       "      <th>4</th>\n",
       "      <td>역사</td>\n",
       "      <td>책표지_역사_001408.jpg</td>\n",
       "      <td>생각지도 못한 곳에</td>\n",
       "    </tr>\n",
       "  </tbody>\n",
       "</table>\n",
       "</div>"
      ],
      "text/plain": [
       "  class           img_name                 title\n",
       "0    역사  책표지_역사_001301.JPG       이 땅에 문화를 일군 사람들\n",
       "1    역사  책표지_역사_001130.jpg  청소년을 위한 서양철학사 서용순 지음\n",
       "2    역사  책표지_역사_001997.JPG                    중세\n",
       "3    역사  책표지_역사_000673.JPG         서툰 여행 그때는 누구나\n",
       "4    역사  책표지_역사_001408.jpg            생각지도 못한 곳에"
      ]
     },
     "execution_count": 160,
     "metadata": {},
     "output_type": "execute_result"
    }
   ],
   "source": [
    "df = pd.DataFrame({\n",
    "        'class' : [],\n",
    "        'img_name' :[],\n",
    "        'title' : []\n",
    "    })\n",
    "cnt = 0\n",
    "for folder in tqdm(os.listdir(labels_folder_path)):\n",
    "    folder_dir = f'/workspace/logo_gen_project/labels/bookcover/{folder}'\n",
    "    files_list = os.listdir(folder_dir)\n",
    "    \n",
    "    for filename in files_list:\n",
    "        if '.json' not in filename:\n",
    "            continue\n",
    "        \n",
    "        file_path = os.path.join(folder_dir, filename)\n",
    "        \n",
    "        with open(file_path) as f:\n",
    "            datas = json.load(f)\n",
    "            words = []\n",
    "            for data in datas['annotations']:        \n",
    "                words.append(data['text'])\n",
    "            title = ' '.join(words)\n",
    "\n",
    "        if 'xxx' in words:\n",
    "            continue\n",
    "\n",
    "        df.loc[cnt] = [\n",
    "            filename.split('.')[0].split('_')[1],\n",
    "            datas['images'][0]['file_name'],\n",
    "            title\n",
    "        ]\n",
    "        cnt +=1\n",
    "        # 선별된 json 파일을 따로 '선별'폴더에 복사한다.\n",
    "        shutil.copy(file_path, json_dst)\n",
    "\n",
    "print(cnt)\n",
    "df.head()"
   ]
  },
  {
   "cell_type": "code",
   "execution_count": 161,
   "metadata": {},
   "outputs": [
    {
     "name": "stdout",
     "output_type": "stream",
     "text": [
      "선별된 이미지의 총 개수:  19511\n"
     ]
    }
   ],
   "source": [
    "print('선별된 이미지의 총 개수: ', len(df))"
   ]
  },
  {
   "cell_type": "code",
   "execution_count": 162,
   "metadata": {},
   "outputs": [],
   "source": [
    "# src = source\n",
    "# dst = destination\n",
    "# src = '/workspace/logo_gen_project/labels/bookcover/10.역사/책표지_역사_000001.json'\n",
    "# dst = '/workspace/logo_gen_project/labels/bookcover/선별'\n",
    "# shutil.copy(src, dst)"
   ]
  },
  {
   "cell_type": "code",
   "execution_count": 163,
   "metadata": {},
   "outputs": [
    {
     "data": {
      "text/html": [
       "<div>\n",
       "<style scoped>\n",
       "    .dataframe tbody tr th:only-of-type {\n",
       "        vertical-align: middle;\n",
       "    }\n",
       "\n",
       "    .dataframe tbody tr th {\n",
       "        vertical-align: top;\n",
       "    }\n",
       "\n",
       "    .dataframe thead th {\n",
       "        text-align: right;\n",
       "    }\n",
       "</style>\n",
       "<table border=\"1\" class=\"dataframe\">\n",
       "  <thead>\n",
       "    <tr style=\"text-align: right;\">\n",
       "      <th></th>\n",
       "      <th>class</th>\n",
       "      <th>img_name</th>\n",
       "      <th>title</th>\n",
       "    </tr>\n",
       "  </thead>\n",
       "  <tbody>\n",
       "    <tr>\n",
       "      <th>13655</th>\n",
       "      <td>기술과학</td>\n",
       "      <td>책표지_기술과학_000001.jpg</td>\n",
       "      <td>서른의 식사법</td>\n",
       "    </tr>\n",
       "    <tr>\n",
       "      <th>12972</th>\n",
       "      <td>기술과학</td>\n",
       "      <td>책표지_기술과학_000002.jpg</td>\n",
       "      <td>밥상머리</td>\n",
       "    </tr>\n",
       "    <tr>\n",
       "      <th>12553</th>\n",
       "      <td>기술과학</td>\n",
       "      <td>책표지_기술과학_000004.jpg</td>\n",
       "      <td>음주 공화국</td>\n",
       "    </tr>\n",
       "    <tr>\n",
       "      <th>14270</th>\n",
       "      <td>기술과학</td>\n",
       "      <td>책표지_기술과학_000010.jpg</td>\n",
       "      <td>먹어서 약이되는</td>\n",
       "    </tr>\n",
       "    <tr>\n",
       "      <th>13371</th>\n",
       "      <td>기술과학</td>\n",
       "      <td>책표지_기술과학_000011.jpg</td>\n",
       "      <td>음식</td>\n",
       "    </tr>\n",
       "    <tr>\n",
       "      <th>13015</th>\n",
       "      <td>기술과학</td>\n",
       "      <td>책표지_기술과학_000012.jpg</td>\n",
       "      <td>춤추는 효소</td>\n",
       "    </tr>\n",
       "    <tr>\n",
       "      <th>12650</th>\n",
       "      <td>기술과학</td>\n",
       "      <td>책표지_기술과학_000016.jpg</td>\n",
       "      <td>자연치유 식이요법</td>\n",
       "    </tr>\n",
       "    <tr>\n",
       "      <th>14184</th>\n",
       "      <td>기술과학</td>\n",
       "      <td>책표지_기술과학_000018.jpg</td>\n",
       "      <td>생강의 힘</td>\n",
       "    </tr>\n",
       "    <tr>\n",
       "      <th>13765</th>\n",
       "      <td>기술과학</td>\n",
       "      <td>책표지_기술과학_000019.jpg</td>\n",
       "      <td>생강의 힘</td>\n",
       "    </tr>\n",
       "    <tr>\n",
       "      <th>12684</th>\n",
       "      <td>기술과학</td>\n",
       "      <td>책표지_기술과학_000020.jpg</td>\n",
       "      <td>자율신경</td>\n",
       "    </tr>\n",
       "  </tbody>\n",
       "</table>\n",
       "</div>"
      ],
      "text/plain": [
       "      class             img_name      title\n",
       "13655  기술과학  책표지_기술과학_000001.jpg    서른의 식사법\n",
       "12972  기술과학  책표지_기술과학_000002.jpg       밥상머리\n",
       "12553  기술과학  책표지_기술과학_000004.jpg     음주 공화국\n",
       "14270  기술과학  책표지_기술과학_000010.jpg   먹어서 약이되는\n",
       "13371  기술과학  책표지_기술과학_000011.jpg         음식\n",
       "13015  기술과학  책표지_기술과학_000012.jpg     춤추는 효소\n",
       "12650  기술과학  책표지_기술과학_000016.jpg  자연치유 식이요법\n",
       "14184  기술과학  책표지_기술과학_000018.jpg      생강의 힘\n",
       "13765  기술과학  책표지_기술과학_000019.jpg      생강의 힘\n",
       "12684  기술과학  책표지_기술과학_000020.jpg       자율신경"
      ]
     },
     "execution_count": 163,
     "metadata": {},
     "output_type": "execute_result"
    }
   ],
   "source": [
    "df = df.sort_values(by = 'img_name')\n",
    "df.head(10)"
   ]
  },
  {
   "cell_type": "markdown",
   "metadata": {},
   "source": [
    "# 선별한 image 파일 복사하기"
   ]
  },
  {
   "cell_type": "code",
   "execution_count": 164,
   "metadata": {},
   "outputs": [],
   "source": [
    "imgs_dst = '/workspace/logo_gen_project/selected_data/selected_images'\n",
    "imgs_folder_path = '/workspace/logo_gen_project/images/bookcover'"
   ]
  },
  {
   "cell_type": "code",
   "execution_count": 165,
   "metadata": {},
   "outputs": [
    {
     "data": {
      "text/plain": [
       "array(['기술과학', '기타', '문학', '사회과학', '언어', '역사', '예술', '자연과학', '종교', '철학',\n",
       "       '총류'], dtype=object)"
      ]
     },
     "execution_count": 165,
     "metadata": {},
     "output_type": "execute_result"
    }
   ],
   "source": [
    "df['class'].unique()"
   ]
  },
  {
   "cell_type": "code",
   "execution_count": 166,
   "metadata": {},
   "outputs": [
    {
     "name": "stderr",
     "output_type": "stream",
     "text": [
      "100%|██████████| 11/11 [00:27<00:00,  2.51s/it]\n"
     ]
    },
    {
     "data": {
      "text/plain": [
       "19511"
      ]
     },
     "execution_count": 166,
     "metadata": {},
     "output_type": "execute_result"
    }
   ],
   "source": [
    "counter = 0\n",
    "for folder in tqdm(os.listdir(imgs_folder_path)):\n",
    "    cls = folder.split('.')[1]\n",
    "    df_cls = df[df['class'] == cls]\n",
    "    imgs_dir = f'/workspace/logo_gen_project/images/bookcover/{folder}'\n",
    "    \n",
    "    for name in df_cls['img_name'].tolist():\n",
    "        img_path = os.path.join(imgs_dir, name)\n",
    "        counter += 1\n",
    "        # 선별된 이미지를 imgs_dst위치로 복사한다.\n",
    "        shutil.copy(img_path, imgs_dst)\n",
    "counter"
   ]
  },
  {
   "cell_type": "markdown",
   "metadata": {},
   "source": [
    "# txt 파일 생성하기"
   ]
  },
  {
   "cell_type": "code",
   "execution_count": 167,
   "metadata": {},
   "outputs": [],
   "source": [
    "output_path = '/workspace/logo_gen_project/selected_data/txt'"
   ]
  },
  {
   "cell_type": "code",
   "execution_count": 168,
   "metadata": {},
   "outputs": [
    {
     "data": {
      "text/plain": [
       "class                      기술과학\n",
       "img_name    책표지_기술과학_000001.jpg\n",
       "title                   서른의 식사법\n",
       "Name: 13655, dtype: object"
      ]
     },
     "execution_count": 168,
     "metadata": {},
     "output_type": "execute_result"
    }
   ],
   "source": [
    "df.iloc[0]"
   ]
  },
  {
   "cell_type": "code",
   "execution_count": 171,
   "metadata": {},
   "outputs": [
    {
     "name": "stderr",
     "output_type": "stream",
     "text": [
      "100%|██████████| 19511/19511 [00:01<00:00, 10227.31it/s]\n"
     ]
    }
   ],
   "source": [
    "for i in tqdm(range(len(df))):\n",
    "    filename = df.iloc[i]['img_name'].split('.')[0]\n",
    "    title = df.iloc[i]['title']\n",
    "    text = f\"\\\"{title}\\\"라는 글자가 적힌 로고.\"\n",
    "\n",
    "    with open(os.path.join(output_path, filename+'.txt'), \"w\") as f:\n",
    "        f.write(text)"
   ]
  }
 ],
 "metadata": {
  "kernelspec": {
   "display_name": "base",
   "language": "python",
   "name": "python3"
  },
  "language_info": {
   "codemirror_mode": {
    "name": "ipython",
    "version": 3
   },
   "file_extension": ".py",
   "mimetype": "text/x-python",
   "name": "python",
   "nbconvert_exporter": "python",
   "pygments_lexer": "ipython3",
   "version": "3.10.13"
  }
 },
 "nbformat": 4,
 "nbformat_minor": 2
}
